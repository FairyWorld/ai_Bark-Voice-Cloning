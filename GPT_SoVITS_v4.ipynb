{
  "nbformat": 4,
  "nbformat_minor": 0,
  "metadata": {
    "colab": {
      "provenance": [],
      "gpuType": "T4",
      "authorship_tag": "ABX9TyOJn22t+X3WyncwrbA4/sCC",
      "include_colab_link": true
    },
    "kernelspec": {
      "name": "python3",
      "display_name": "Python 3"
    },
    "language_info": {
      "name": "python"
    },
    "accelerator": "GPU"
  },
  "cells": [
    {
      "cell_type": "markdown",
      "metadata": {
        "id": "view-in-github",
        "colab_type": "text"
      },
      "source": [
        "<a href=\"https://colab.research.google.com/github/KevinWang676/Bark-Voice-Cloning/blob/main/GPT_SoVITS_v4.ipynb\" target=\"_parent\"><img src=\"https://colab.research.google.com/assets/colab-badge.svg\" alt=\"Open In Colab\"/></a>"
      ]
    },
    {
      "cell_type": "code",
      "source": [
        "#@title 一键运行 GPT-SoVITS-v4\n",
        "#点击左侧运行按钮后，如果运行过程中遇到弹窗提醒，点击取消cancel即可\n",
        "!git clone https://huggingface.co/kevinwang676/GPT-SoVITS-v4.git\n",
        "%cd GPT-SoVITS-v4\n",
        "!pip install -r requirements.txt\n",
        "!export is_share=True && python webui.py zh_CN"
      ],
      "metadata": {
        "id": "vj0zXyLTT7Kq"
      },
      "execution_count": null,
      "outputs": []
    },
    {
      "cell_type": "code",
      "source": [],
      "metadata": {
        "id": "crCE-LMZULX_"
      },
      "execution_count": null,
      "outputs": []
    }
  ]
}